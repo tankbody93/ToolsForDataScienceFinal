{
 "cells": [
  {
   "cell_type": "markdown",
   "metadata": {},
   "source": [
    "<center>\n",
    "    <img src=\"https://s3-api.us-geo.objectstorage.softlayer.net/cf-courses-data/CognitiveClass/Logos/organization_logo/organization_logo.png\" width=\"300\" alt=\"cognitiveclass.ai logo\"  />\n",
    "</center>\n"
   ]
  },
  {
   "cell_type": "markdown",
   "metadata": {},
   "source": [
    "# My Jupyter Notebook on IBM Watson Studio"
   ]
  },
  {
   "cell_type": "markdown",
   "metadata": {},
   "source": [
    "**Tyler B**\n",
    " \n",
    " My desired position is a data scientist"
   ]
  },
  {
   "cell_type": "markdown",
   "metadata": {},
   "source": [
    "*I am interested in data science because data truly runs the world and I want to cement my legacy in some way through data science*"
   ]
  },
  {
   "cell_type": "markdown",
   "metadata": {},
   "source": [
    "### My code will generate a random password from 3 different strings"
   ]
  },
  {
   "cell_type": "code",
   "execution_count": 9,
   "metadata": {},
   "outputs": [
    {
     "name": "stdout",
     "output_type": "stream",
     "text": [
      "UzvpXW5s\n"
     ]
    }
   ],
   "source": [
    "import random\n",
    "letters = \"abcdefghijklmnopqrstuvwxyz\"\n",
    "caps = \"ABCDEFGHIJKLMNOPQRSTUVWXYZ\"\n",
    "numbers = \"1234567890\"\n",
    "all = letters + caps + numbers\n",
    "\n",
    "print(''.join(random.sample(all,8)))"
   ]
  },
  {
   "cell_type": "markdown",
   "metadata": {},
   "source": [
    "My Top 3 Favorite Sports\n",
    "\n",
    "1. Football\n",
    "2. Baseball\n",
    "3. Hockey\n",
    "\n",
    "`My favorite football team is the Buffalo Bills`\n",
    "\n",
    "My Favorite players on the Bills are\n",
    "\n",
    "*Josh Allen\n",
    "*Gabe Davis\n",
    "*Jordan P"
   ]
  }
 ],
 "metadata": {
  "kernelspec": {
   "display_name": "Python",
   "language": "python",
   "name": "conda-env-python-py"
  },
  "language_info": {
   "codemirror_mode": {
    "name": "ipython",
    "version": 3
   },
   "file_extension": ".py",
   "mimetype": "text/x-python",
   "name": "python",
   "nbconvert_exporter": "python",
   "pygments_lexer": "ipython3",
   "version": "3.7.12"
  }
 },
 "nbformat": 4,
 "nbformat_minor": 4
}
